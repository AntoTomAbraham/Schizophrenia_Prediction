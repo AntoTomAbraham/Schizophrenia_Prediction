{
 "cells": [
  {
   "cell_type": "code",
   "execution_count": 1,
   "id": "39f6a4a2",
   "metadata": {},
   "outputs": [
    {
     "name": "stderr",
     "output_type": "stream",
     "text": [
      "/Users/antotomabraham/anaconda3/lib/python3.10/site-packages/tqdm/auto.py:22: TqdmWarning: IProgress not found. Please update jupyter and ipywidgets. See https://ipywidgets.readthedocs.io/en/stable/user_install.html\n",
      "  from .autonotebook import tqdm as notebook_tqdm\n"
     ]
    }
   ],
   "source": [
    "import torch.nn as nn \n",
    "import torch\n",
    "input=torch.randn(3, 22, 15000)"
   ]
  },
  {
   "cell_type": "code",
   "execution_count": 2,
   "id": "024daac0",
   "metadata": {},
   "outputs": [
    {
     "data": {
      "text/plain": [
       "torch.Size([3, 22, 15000])"
      ]
     },
     "execution_count": 2,
     "metadata": {},
     "output_type": "execute_result"
    }
   ],
   "source": [
    "input.shape"
   ]
  },
  {
   "cell_type": "code",
   "execution_count": 3,
   "id": "8abfd9c0",
   "metadata": {},
   "outputs": [],
   "source": [
    "class Block(nn.Module):\n",
    "    def __init__(self,inplace):\n",
    "        super().__init__() \n",
    "        self.conv1=nn.Conv1d(in_channels=inplace,out_channels=32,kernel_size=2,stride=2,padding=0) \n",
    "        self.conv2=nn.Conv1d(in_channels=inplace,out_channels=32,kernel_size=4,stride=2,padding=1) \n",
    "        self.conv3=nn.Conv1d(in_channels=inplace,out_channels=32,kernel_size=8,stride=2,padding=3)\n",
    "        self.relu=nn.ReLU()\n",
    "\n",
    "    def forward(self,x):\n",
    "        x1=self.relu(self.conv1(x))\n",
    "        x2=self.relu(self.conv2(x))\n",
    "        x3=self.relu(self.conv3(x))\n",
    "        x=torch.cat([x1,x3,x3],dim=1)\n",
    "        return x"
   ]
  },
  {
   "cell_type": "code",
   "execution_count": 4,
   "id": "7c9f5b8c",
   "metadata": {},
   "outputs": [
    {
     "data": {
      "text/plain": [
       "torch.Size([3, 96, 7500])"
      ]
     },
     "execution_count": 4,
     "metadata": {},
     "output_type": "execute_result"
    }
   ],
   "source": [
    "block=Block(22);\n",
    "out1=block(input);\n",
    "out1.shape"
   ]
  },
  {
   "cell_type": "code",
   "execution_count": 5,
   "id": "602d9000",
   "metadata": {},
   "outputs": [
    {
     "data": {
      "text/plain": [
       "torch.Size([3, 96, 3750])"
      ]
     },
     "execution_count": 5,
     "metadata": {},
     "output_type": "execute_result"
    }
   ],
   "source": [
    "block=Block(96);\n",
    "out2=block(out1);\n",
    "out2.shape"
   ]
  },
  {
   "cell_type": "code",
   "execution_count": 6,
   "id": "2b53ba6d",
   "metadata": {},
   "outputs": [
    {
     "data": {
      "text/plain": [
       "torch.Size([3, 96, 1875])"
      ]
     },
     "execution_count": 6,
     "metadata": {},
     "output_type": "execute_result"
    }
   ],
   "source": [
    "block=Block(96);\n",
    "out3=block(out2);\n",
    "out3.shape"
   ]
  },
  {
   "cell_type": "code",
   "execution_count": 7,
   "id": "f8f80d7a",
   "metadata": {},
   "outputs": [
    {
     "name": "stdout",
     "output_type": "stream",
     "text": [
      "torch.Size([3, 1875, 96])\n",
      "torch.Size([3, 1875, 32]) torch.Size([1, 3, 32])\n"
     ]
    }
   ],
   "source": [
    "gru=nn.GRU(input_size=96,hidden_size=32,batch_first=True)\n",
    "x=out3.permute(0,2,1)\n",
    "print(x.shape) \n",
    "output,hn=gru(x)\n",
    "print(output.shape, hn.shape)"
   ]
  },
  {
   "cell_type": "code",
   "execution_count": 8,
   "id": "6b0cb1f7",
   "metadata": {},
   "outputs": [
    {
     "data": {
      "text/plain": [
       "torch.Size([3, 1875, 64])"
      ]
     },
     "execution_count": 8,
     "metadata": {},
     "output_type": "execute_result"
    }
   ],
   "source": [
    "gru1=nn.GRU(input_size=96,hidden_size=32,batch_first=True)\n",
    "gru2=nn.GRU(input_size=32,hidden_size=32,batch_first=True)\n",
    "gru_out1,_=gru1(x)\n",
    "gru_out2,_=gru2(gru_out1)\n",
    "gru_out=torch.cat([gru_out1,gru_out2],dim=2)\n",
    "gru_out.shape"
   ]
  },
  {
   "cell_type": "code",
   "execution_count": 9,
   "id": "1c50c57b",
   "metadata": {},
   "outputs": [
    {
     "data": {
      "text/plain": [
       "torch.Size([3, 1875, 32])"
      ]
     },
     "execution_count": 9,
     "metadata": {},
     "output_type": "execute_result"
    }
   ],
   "source": [
    "gru3=nn.GRU(input_size=64,hidden_size=32,batch_first=True) \n",
    "gru_out3,_=gru3(gru_out)\n",
    "gru_out3.shape"
   ]
  },
  {
   "cell_type": "code",
   "execution_count": 10,
   "id": "01db471b",
   "metadata": {},
   "outputs": [
    {
     "data": {
      "text/plain": [
       "torch.Size([3, 1875, 96])"
      ]
     },
     "execution_count": 10,
     "metadata": {},
     "output_type": "execute_result"
    }
   ],
   "source": [
    "gru_out=torch.cat([gru_out1,gru_out2,gru_out3],dim=2)\n",
    "gru_out.shape"
   ]
  },
  {
   "cell_type": "code",
   "execution_count": 11,
   "id": "d788193a",
   "metadata": {},
   "outputs": [
    {
     "data": {
      "text/plain": [
       "torch.Size([3, 1, 32])"
      ]
     },
     "execution_count": 11,
     "metadata": {},
     "output_type": "execute_result"
    }
   ],
   "source": [
    "linear=nn.Linear(1875,1)\n",
    "linear_out=linear(gru_out.permute(0,2,1))\n",
    "linear_out.shape\n",
    "\n",
    "gru4=nn.GRU(input_size=96,hidden_size=32,batch_first=True) \n",
    "gru_out4,_=gru4(linear_out.permute(0,2,1))\n",
    "gru_out4.shape"
   ]
  },
  {
   "cell_type": "code",
   "execution_count": 25,
   "id": "10891a33",
   "metadata": {},
   "outputs": [],
   "source": [
    "class ChronoNet(nn.Module):\n",
    "    def __init__(self,channel):\n",
    "        super().__init__() \n",
    "        self.block1=Block(channel) \n",
    "        self.block2=Block(96)\n",
    "        self.block3=Block(96) \n",
    "        self.gru1=nn.GRU(input_size=96,hidden_size=32,batch_first=True) \n",
    "        self.gru2=nn.GRU(input_size=32,hidden_size=32,batch_first=True) \n",
    "        self.gru3=nn.GRU(input_size=64,hidden_size=32,batch_first=True) \n",
    "        self.gru4=nn.GRU(input_size=96,hidden_size=32,batch_first=True) \n",
    "        self.gru_linear=nn.Linear(1875,1) \n",
    "        self.flatten=nn.Flatten() \n",
    "        self.fc1=nn.Linear(32,1) \n",
    "        self.relu=nn.ReLU() \n",
    "    def forward(self,x): \n",
    "        x=self.block1(x) \n",
    "        x=self.block2(x)\n",
    "        x=self.block3(x) \n",
    "        X=x.permute(0,2,1) \n",
    "        gru_out1,_=self.gru1(x)\n",
    "        gru_out2,_=self.gru2(gru_out1) \n",
    "        gru_out=torch.cat([gru_out1,gru_out2],dim=2)\n",
    "        gru_out3,_=self.gru3(gru_out)\n",
    "        gru_out=torch.cat([gru_out1,gru_out2,gru_out3],dim=2)\n",
    "        linear_out=self.relu(gru_linear(gru_out.permute(0,2,1)))\n",
    "        gru_out=torch.cat([gru_out1,gru_out2],dim=2)\n",
    "        gru_out3,_=self.gru3(gru_out)\n",
    "        gru_out=torch.cat([gru_out1,gru_out2,gru_out3],dim=2)\n",
    "        \n",
    "        linear_out=self.relu(self.gru_linear(gru_out.permute(0,2,1)))\n",
    "        gru_out4,_=self.gru4(linear_out.permute (0,2,1))\n",
    "        x=self.flatten(gru_out4)\n",
    "        x=self.fc1(x)"
   ]
  },
  {
   "cell_type": "code",
   "execution_count": 1,
   "id": "0505fdbb",
   "metadata": {},
   "outputs": [],
   "source": [
    "from sklearn.model_selection import GroupKFold,LeaveOneGroupOut\n",
    "from sklearn.preprocessing import StandardScaler\n",
    "gkf=GroupKFold()\n",
    "from sklearn.base import TransformerMixin,BaseEstimator\n",
    "from sklearn.preprocessing import StandardScaler\n",
    "#https://stackoverflow.com/questions/50125844/how-to-standard-scale-a-3d-matrix\n",
    "class StandardScaler3D(BaseEstimator,TransformerMixin):\n",
    "    #batch, sequence, channels\n",
    "    def __init__(self):\n",
    "        self.scaler = StandardScaler()\n",
    "\n",
    "    def fit(self,X,y=None):\n",
    "        self.scaler.fit(X.reshape(-1, X.shape[2]))\n",
    "        return self\n",
    "\n",
    "    def transform(self,X):\n",
    "        return self.scaler.transform(X.reshape( -1,X.shape[2])).reshape(X.shape)"
   ]
  },
  {
   "cell_type": "code",
   "execution_count": null,
   "id": "d310f3fc",
   "metadata": {},
   "outputs": [],
   "source": []
  },
  {
   "cell_type": "code",
   "execution_count": null,
   "id": "1b47796e",
   "metadata": {},
   "outputs": [],
   "source": []
  }
 ],
 "metadata": {
  "kernelspec": {
   "display_name": "Python 3 (ipykernel)",
   "language": "python",
   "name": "python3"
  },
  "language_info": {
   "codemirror_mode": {
    "name": "ipython",
    "version": 3
   },
   "file_extension": ".py",
   "mimetype": "text/x-python",
   "name": "python",
   "nbconvert_exporter": "python",
   "pygments_lexer": "ipython3",
   "version": "3.10.9"
  }
 },
 "nbformat": 4,
 "nbformat_minor": 5
}
