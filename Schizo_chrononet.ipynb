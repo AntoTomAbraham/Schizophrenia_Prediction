{
 "cells": [
  {
   "cell_type": "code",
   "execution_count": 172,
   "id": "e41a1459",
   "metadata": {},
   "outputs": [],
   "source": [
    "%%capture\n",
    "from glob import glob\n",
    "!pip install pytorch-lightning\n",
    "!pip install keras-tuner"
   ]
  },
  {
   "cell_type": "code",
   "execution_count": 173,
   "id": "03419faf",
   "metadata": {},
   "outputs": [],
   "source": [
    "%%capture\n",
    "import os\n",
    "!pip install mne\n",
    "import mne\n",
    "import numpy as np\n",
    "import pandas\n",
    "import matplotlib.pyplot as plt"
   ]
  },
  {
   "cell_type": "code",
   "execution_count": 174,
   "id": "a8bbcbb6",
   "metadata": {},
   "outputs": [
    {
     "data": {
      "text/plain": [
       "28"
      ]
     },
     "execution_count": 174,
     "metadata": {},
     "output_type": "execute_result"
    }
   ],
   "source": [
    "path=glob('dataverse_files-2/*.edf')\n",
    "len(path)"
   ]
  },
  {
   "cell_type": "code",
   "execution_count": 175,
   "id": "46ad76bf",
   "metadata": {},
   "outputs": [],
   "source": [
    "healthyPath=[i for i in path if 'h' in i.split(\"/\")[1]]\n",
    "PatientPath=[i for i in path if 's' in i.split(\"/\")[1]]"
   ]
  },
  {
   "cell_type": "code",
   "execution_count": 176,
   "id": "ca6d5ba4",
   "metadata": {},
   "outputs": [],
   "source": [
    "def read_data(filepath):\n",
    "    data=mne.io.read_raw_edf(filepath,preload=True)\n",
    "    data.set_eeg_reference()\n",
    "    data.filter(l_freq=1,h_freq=30)\n",
    "    epoch=mne.make_fixed_length_epochs(data,duration=4,overlap=1)\n",
    "    arr=epoch.get_data()\n",
    "    return arr"
   ]
  },
  {
   "cell_type": "code",
   "execution_count": 177,
   "id": "41e9e643",
   "metadata": {},
   "outputs": [],
   "source": [
    "%%capture\n",
    "healthy_epochArr=[read_data(i) for i in healthyPath]\n",
    "patient_epochArr=[read_data(i) for i in PatientPath]"
   ]
  },
  {
   "cell_type": "code",
   "execution_count": 178,
   "id": "2f328945",
   "metadata": {},
   "outputs": [
    {
     "name": "stdout",
     "output_type": "stream",
     "text": [
      "301\n"
     ]
    }
   ],
   "source": [
    "#len(mne_objectHealthy)\n",
    "print(len(healthy_epochArr[13]))"
   ]
  },
  {
   "cell_type": "code",
   "execution_count": 179,
   "id": "26c0422e",
   "metadata": {},
   "outputs": [],
   "source": [
    "control_epoch_labels=[len(i)*[0] for i in healthy_epochArr]\n",
    "patient_epoch_labels=[len(i)*[1] for i in patient_epochArr]"
   ]
  },
  {
   "cell_type": "code",
   "execution_count": 180,
   "id": "6384f7c9",
   "metadata": {},
   "outputs": [],
   "source": [
    "data_list=healthy_epochArr+patient_epochArr\n",
    "label_list=control_epoch_labels+patient_epoch_labels"
   ]
  },
  {
   "cell_type": "code",
   "execution_count": 181,
   "id": "ca36a7b6",
   "metadata": {},
   "outputs": [],
   "source": [
    "group_list=[[i]*len(j) for i,j in enumerate (data_list)]"
   ]
  },
  {
   "cell_type": "code",
   "execution_count": 182,
   "id": "af499b96",
   "metadata": {},
   "outputs": [],
   "source": [
    "from sklearn.model_selection import GroupKFold,LeaveOneGroupOut\n",
    "from sklearn.preprocessing import StandardScaler\n",
    "gkf=GroupKFold()\n",
    "from sklearn.base import TransformerMixin,BaseEstimator\n",
    "from sklearn.preprocessing import StandardScaler\n",
    "class StandardScaler3D(BaseEstimator,TransformerMixin):\n",
    "    #batch, sequence, channels\n",
    "    def __init__(self):\n",
    "        self.scaler = StandardScaler()\n",
    "\n",
    "    def fit(self,X,y=None):\n",
    "        self.scaler.fit(X.reshape(-1, X.shape[2]))\n",
    "        return self\n",
    "\n",
    "    def transform(self,X):\n",
    "        return self.scaler.transform(X.reshape( -1,X.shape[2])).reshape(X.shape)"
   ]
  },
  {
   "cell_type": "code",
   "execution_count": 183,
   "id": "7c971b60",
   "metadata": {},
   "outputs": [
    {
     "name": "stdout",
     "output_type": "stream",
     "text": [
      "(9605, 1000, 19) (9605,) (9605,)\n"
     ]
    }
   ],
   "source": [
    "data_array=np.vstack(data_list)\n",
    "label_array=np.hstack(label_list)\n",
    "group_array=np.hstack(group_list)\n",
    "data_array=np.moveaxis(data_array,1,2)\n",
    "\n",
    "print(data_array.shape,label_array.shape,group_array.shape)"
   ]
  },
  {
   "cell_type": "code",
   "execution_count": 184,
   "id": "300d3c35",
   "metadata": {},
   "outputs": [],
   "source": [
    "accuracy=[]\n",
    "for train_index, val_index in gkf.split(data_array, label_array, groups=group_array):\n",
    "    train_features,train_labels=data_array[train_index],label_array[train_index]\n",
    "    val_features,val_labels=data_array[val_index],label_array[val_index]\n",
    "    scaler=StandardScaler()\n",
    "    train_features = scaler.fit_transform(train_features.reshape(-1, train_features.shape[-1])).reshape(train_features.shape)\n",
    "    val_features = scaler.transform(val_features.reshape(-1, val_features.shape[-1])).reshape(val_features.shape)\n",
    "    break;"
   ]
  },
  {
   "cell_type": "code",
   "execution_count": 185,
   "id": "2b564f16",
   "metadata": {},
   "outputs": [
    {
     "data": {
      "text/plain": [
       "(7662, 1000, 19)"
      ]
     },
     "execution_count": 185,
     "metadata": {},
     "output_type": "execute_result"
    }
   ],
   "source": [
    "train_features.shape"
   ]
  },
  {
   "cell_type": "code",
   "execution_count": 186,
   "id": "2afd21eb",
   "metadata": {},
   "outputs": [],
   "source": [
    "# import torch.nn as nn \n",
    "# import torch"
   ]
  },
  {
   "cell_type": "code",
   "execution_count": null,
   "id": "c574b4ff",
   "metadata": {},
   "outputs": [],
   "source": []
  },
  {
   "cell_type": "code",
   "execution_count": 187,
   "id": "157c2f5b",
   "metadata": {},
   "outputs": [
    {
     "name": "stdout",
     "output_type": "stream",
     "text": [
      "(9605, 1000, 19) (9605,) (9605,)\n"
     ]
    }
   ],
   "source": [
    "import numpy as np\n",
    "data_array=np.concatenate(data_list)\n",
    "label_array=np.concatenate(label_list)\n",
    "group_array=np.concatenate(group_list)\n",
    "data_array=np.moveaxis(data_array,1,2)\n",
    "print(data_array.shape,label_array.shape,group_array.shape)"
   ]
  },
  {
   "cell_type": "code",
   "execution_count": 188,
   "id": "54edf9e7",
   "metadata": {},
   "outputs": [],
   "source": [
    "# accuracy=[]\n",
    "# for train_index, val_index in gkf.split(data_array, label_array, groups=group_array):\n",
    "#     train_features,train_labels=data_array[train_index],label_array[train_index]\n",
    "#     val_features,val_labels=data_array[val_index],label_array[val_index]\n",
    "#     scaler=StandardScaler3D()\n",
    "#     train_features=scaler.fit_transform(train_features)\n",
    "#     val_features=scaler.transform(val_features)\n",
    "#     train_features=np.moveaxis(train_features,1,2)\n",
    "#     val_features=np.moveaxis(val_features,1,2)\n",
    "\n",
    "#     break"
   ]
  },
  {
   "cell_type": "code",
   "execution_count": 189,
   "id": "8e66345d",
   "metadata": {},
   "outputs": [],
   "source": [
    "# train_features = torch.Tensor(train_features)\n",
    "# val_features = torch.Tensor(val_features)\n",
    "# train_labels = torch.Tensor(train_labels)\n",
    "# val_labels = torch.Tensor(val_labels)"
   ]
  },
  {
   "cell_type": "code",
   "execution_count": 190,
   "id": "611c41da",
   "metadata": {},
   "outputs": [
    {
     "data": {
      "text/plain": [
       "(1943, 1943)"
      ]
     },
     "execution_count": 190,
     "metadata": {},
     "output_type": "execute_result"
    }
   ],
   "source": [
    "len(val_features),len(val_labels)"
   ]
  },
  {
   "cell_type": "code",
   "execution_count": 191,
   "id": "27190a49",
   "metadata": {},
   "outputs": [
    {
     "data": {
      "text/plain": [
       "(7662, 1000, 19)"
      ]
     },
     "execution_count": 191,
     "metadata": {},
     "output_type": "execute_result"
    }
   ],
   "source": [
    "train_features.shape"
   ]
  },
  {
   "cell_type": "code",
   "execution_count": 192,
   "id": "bcb53d50",
   "metadata": {},
   "outputs": [],
   "source": [
    "from tensorflow.keras.layers import Input,Dense,concatenate,Flatten,GRU,Conv1D\n",
    "from tensorflow.keras.models import Model"
   ]
  },
  {
   "cell_type": "code",
   "execution_count": 193,
   "id": "cc361760",
   "metadata": {},
   "outputs": [],
   "source": [
    "def block(input):\n",
    "    conv1 = Conv1D(32, 2, strides=2,activation='relu',padding=\"same\")(input)\n",
    "    conv2 = Conv1D(32, 4, strides=2,activation='relu',padding=\"causal\")(input)\n",
    "    conv3 = Conv1D(32, 8, strides=2,activation='relu',padding=\"causal\")(input)\n",
    "    x = concatenate([conv1,conv2,conv3],axis=2)\n",
    "    return x"
   ]
  },
  {
   "cell_type": "code",
   "execution_count": 194,
   "id": "5c61c688",
   "metadata": {},
   "outputs": [],
   "source": [
    "input= Input(shape=(1000,19))\n",
    "block1=block(input)\n",
    "block2=block(block1)\n",
    "block3=block(block2)"
   ]
  },
  {
   "cell_type": "code",
   "execution_count": 195,
   "id": "c30ba7f5",
   "metadata": {},
   "outputs": [],
   "source": [
    "gru_out1 = GRU(32,activation='tanh',return_sequences=True)(block3)\n",
    "gru_out2 = GRU(32,activation='tanh',return_sequences=True)(gru_out1)\n",
    "gru_out = concatenate([gru_out1,gru_out2],axis=2)\n",
    "gru_out3 = GRU(32,activation='tanh',return_sequences=True)(gru_out)\n",
    "gru_out = concatenate([gru_out1,gru_out2,gru_out3])\n",
    "gru_out4 = GRU(32,activation='tanh')(gru_out)\n"
   ]
  },
  {
   "cell_type": "code",
   "execution_count": 196,
   "id": "ea354cab",
   "metadata": {},
   "outputs": [],
   "source": [
    "predictions = Dense(1,activation='sigmoid')(gru_out4)\n",
    "model = Model(inputs=input, outputs=predictions)\n",
    "model.compile(optimizer = 'adam', loss = 'binary_crossentropy', metrics=['accuracy'])"
   ]
  },
  {
   "cell_type": "code",
   "execution_count": 197,
   "id": "ce1f4f33",
   "metadata": {},
   "outputs": [
    {
     "data": {
      "text/plain": [
       "(7662, 1000, 19)"
      ]
     },
     "execution_count": 197,
     "metadata": {},
     "output_type": "execute_result"
    }
   ],
   "source": [
    "train_features.shape"
   ]
  },
  {
   "cell_type": "code",
   "execution_count": 198,
   "id": "36672c6f",
   "metadata": {},
   "outputs": [],
   "source": [
    "##model.fit(,epochs=10,batch_size=128,validation_data=(val_features,val_labels))"
   ]
  },
  {
   "cell_type": "code",
   "execution_count": 199,
   "id": "ddd462ca",
   "metadata": {},
   "outputs": [],
   "source": [
    "import tensorflow as tf\n",
    "train_dataset = tf.data.Dataset.from_tensor_slices((train_features, train_labels))\n",
    "train_dataset = train_dataset.batch(128)  \n",
    "val_dataset = tf.data.Dataset.from_tensor_slices((val_features, val_labels))\n",
    "val_dataset = val_dataset.batch(128)  "
   ]
  },
  {
   "cell_type": "code",
   "execution_count": 200,
   "id": "de01ca6c",
   "metadata": {},
   "outputs": [
    {
     "name": "stdout",
     "output_type": "stream",
     "text": [
      "Epoch 1/10\n",
      "60/60 [==============================] - 23s 331ms/step - loss: 0.9260 - accuracy: 0.7549 - val_loss: 2.9320 - val_accuracy: 0.3721\n",
      "Epoch 2/10\n",
      "60/60 [==============================] - 18s 305ms/step - loss: 1.3458 - accuracy: 0.5210 - val_loss: 1.7434 - val_accuracy: 0.3721\n",
      "Epoch 3/10\n",
      "60/60 [==============================] - 19s 310ms/step - loss: 1.0605 - accuracy: 0.4093 - val_loss: 1.4661 - val_accuracy: 0.3721\n",
      "Epoch 4/10\n",
      "60/60 [==============================] - 19s 311ms/step - loss: 0.9562 - accuracy: 0.4370 - val_loss: 1.3360 - val_accuracy: 0.3721\n",
      "Epoch 5/10\n",
      "60/60 [==============================] - 20s 327ms/step - loss: 0.8048 - accuracy: 0.5895 - val_loss: 1.7679 - val_accuracy: 0.3721\n",
      "Epoch 6/10\n",
      "60/60 [==============================] - 18s 304ms/step - loss: 0.9876 - accuracy: 0.4541 - val_loss: 1.3568 - val_accuracy: 0.3721\n",
      "Epoch 7/10\n",
      "60/60 [==============================] - 19s 316ms/step - loss: 0.9280 - accuracy: 0.4374 - val_loss: 1.4381 - val_accuracy: 0.3721\n",
      "Epoch 8/10\n",
      "60/60 [==============================] - 22s 370ms/step - loss: 0.9850 - accuracy: 0.4377 - val_loss: 1.2311 - val_accuracy: 0.3721\n",
      "Epoch 9/10\n",
      "60/60 [==============================] - 18s 309ms/step - loss: 0.8986 - accuracy: 0.4512 - val_loss: 0.9227 - val_accuracy: 0.3721\n",
      "Epoch 10/10\n",
      "60/60 [==============================] - 19s 310ms/step - loss: 0.7756 - accuracy: 0.5934 - val_loss: 0.8551 - val_accuracy: 0.3721\n"
     ]
    },
    {
     "data": {
      "text/plain": [
       "<keras.src.callbacks.History at 0x2e91ab490>"
      ]
     },
     "execution_count": 200,
     "metadata": {},
     "output_type": "execute_result"
    }
   ],
   "source": [
    "model.fit(train_dataset, epochs=10, validation_data=val_dataset)"
   ]
  },
  {
   "cell_type": "code",
   "execution_count": null,
   "id": "1bcc99de",
   "metadata": {},
   "outputs": [],
   "source": []
  },
  {
   "cell_type": "code",
   "execution_count": 201,
   "id": "60d16b52",
   "metadata": {},
   "outputs": [
    {
     "name": "stdout",
     "output_type": "stream",
     "text": [
      "16/16 [==============================] - 1s 77ms/step - loss: 0.8551 - accuracy: 0.3721\n"
     ]
    }
   ],
   "source": [
    "import tensorflow as tf\n",
    "val_dataset = tf.data.Dataset.from_tensor_slices((val_features, val_labels))\n",
    "batch_size = 128\n",
    "val_dataset = val_dataset.batch(batch_size)\n",
    "evaluation = model.evaluate(val_dataset)"
   ]
  },
  {
   "cell_type": "code",
   "execution_count": null,
   "id": "9ad0d7e7",
   "metadata": {},
   "outputs": [],
   "source": []
  },
  {
   "cell_type": "code",
   "execution_count": null,
   "id": "ba1a20ce",
   "metadata": {},
   "outputs": [],
   "source": []
  },
  {
   "cell_type": "code",
   "execution_count": null,
   "id": "0246fcee",
   "metadata": {},
   "outputs": [],
   "source": []
  },
  {
   "cell_type": "code",
   "execution_count": null,
   "id": "37f15fd1",
   "metadata": {},
   "outputs": [],
   "source": []
  },
  {
   "cell_type": "code",
   "execution_count": null,
   "id": "7334da0c",
   "metadata": {},
   "outputs": [],
   "source": []
  },
  {
   "cell_type": "code",
   "execution_count": null,
   "id": "7191a742",
   "metadata": {},
   "outputs": [],
   "source": []
  },
  {
   "cell_type": "code",
   "execution_count": null,
   "id": "1abc06c6",
   "metadata": {},
   "outputs": [],
   "source": []
  }
 ],
 "metadata": {
  "kernelspec": {
   "display_name": "Python 3 (ipykernel)",
   "language": "python",
   "name": "python3"
  },
  "language_info": {
   "codemirror_mode": {
    "name": "ipython",
    "version": 3
   },
   "file_extension": ".py",
   "mimetype": "text/x-python",
   "name": "python",
   "nbconvert_exporter": "python",
   "pygments_lexer": "ipython3",
   "version": "3.10.9"
  }
 },
 "nbformat": 4,
 "nbformat_minor": 5
}
