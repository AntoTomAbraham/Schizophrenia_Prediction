{
 "cells": [
  {
   "cell_type": "code",
   "execution_count": 1,
   "id": "080ada98",
   "metadata": {},
   "outputs": [],
   "source": [
    "%%capture\n",
    "from glob import glob\n",
    "!pip install pytorch-lightning\n",
    "import os\n",
    "!pip install mne\n",
    "import mne\n",
    "import numpy as np\n",
    "import pandas\n",
    "import matplotlib.pyplot as plt"
   ]
  },
  {
   "cell_type": "code",
   "execution_count": 2,
   "id": "4f737d56",
   "metadata": {},
   "outputs": [
    {
     "data": {
      "text/plain": [
       "28"
      ]
     },
     "execution_count": 2,
     "metadata": {},
     "output_type": "execute_result"
    }
   ],
   "source": [
    "path=glob('dataverse_files-2/*.edf')\n",
    "len(path)"
   ]
  },
  {
   "cell_type": "code",
   "execution_count": 3,
   "id": "8c05036e",
   "metadata": {},
   "outputs": [],
   "source": [
    "healthyPath=[i for i in path if 'h' in i.split(\"/\")[1]]\n",
    "PatientPath=[i for i in path if 's' in i.split(\"/\")[1]]"
   ]
  },
  {
   "cell_type": "code",
   "execution_count": 4,
   "id": "9ee6d1e4",
   "metadata": {},
   "outputs": [],
   "source": [
    "def read_data(filepath):\n",
    "    data=mne.io.read_raw_edf(filepath,preload=True)\n",
    "    data.set_eeg_reference()\n",
    "    data.filter(l_freq=1,h_freq=30)\n",
    "    epoch=mne.make_fixed_length_epochs(data,duration=4,overlap=1)\n",
    "    arr=epoch.get_data()\n",
    "    return arr"
   ]
  },
  {
   "cell_type": "code",
   "execution_count": 5,
   "id": "b07cb8c9",
   "metadata": {},
   "outputs": [],
   "source": [
    "%%capture\n",
    "healthy_epochArr=[read_data(i) for i in healthyPath]\n",
    "patient_epochArr=[read_data(i) for i in PatientPath]\n",
    "control_epoch_labels=[len(i)*[0] for i in healthy_epochArr]\n",
    "patient_epoch_labels=[len(i)*[1] for i in patient_epochArr]"
   ]
  },
  {
   "cell_type": "code",
   "execution_count": 6,
   "id": "d86b715e",
   "metadata": {},
   "outputs": [],
   "source": [
    "data_list=healthy_epochArr+patient_epochArr\n",
    "label_list=control_epoch_labels+patient_epoch_labels\n",
    "group_list=[[i]*len(j) for i,j in enumerate (data_list)]"
   ]
  },
  {
   "cell_type": "code",
   "execution_count": 7,
   "id": "b6766d33",
   "metadata": {},
   "outputs": [],
   "source": [
    "from sklearn.model_selection import GroupKFold,LeaveOneGroupOut\n",
    "from sklearn.preprocessing import StandardScaler\n",
    "gkf=GroupKFold()\n",
    "from sklearn.base import TransformerMixin,BaseEstimator\n",
    "from sklearn.preprocessing import StandardScaler\n",
    "\n",
    "class StandardScaler3D(BaseEstimator,TransformerMixin):\n",
    "    def __init__(self):\n",
    "        self.scaler = StandardScaler()\n",
    "\n",
    "    def fit(self,X,y=None):\n",
    "        self.scaler.fit(X.reshape(-1, X.shape[2]))\n",
    "        return self\n",
    "\n",
    "    def transform(self,X):\n",
    "        return self.scaler.transform(X.reshape( -1,X.shape[2])).reshape(X.shape)"
   ]
  },
  {
   "cell_type": "code",
   "execution_count": 8,
   "id": "91acffde",
   "metadata": {},
   "outputs": [
    {
     "name": "stdout",
     "output_type": "stream",
     "text": [
      "(9605, 1000, 19) (9605,) (9605,)\n"
     ]
    }
   ],
   "source": [
    "import numpy as np\n",
    "data_array=np.concatenate(data_list)\n",
    "label_array=np.concatenate(label_list)\n",
    "group_array=np.concatenate(group_list)\n",
    "data_array=np.moveaxis(data_array,1,2)\n",
    "\n",
    "print(data_array.shape,label_array.shape,group_array.shape)"
   ]
  },
  {
   "cell_type": "code",
   "execution_count": 9,
   "id": "d5046c28",
   "metadata": {},
   "outputs": [],
   "source": [
    "accuracy=[]\n",
    "for train_index, val_index in gkf.split(data_array, label_array, groups=group_array):\n",
    "    train_features,train_labels=data_array[train_index],label_array[train_index]\n",
    "    val_features,val_labels=data_array[val_index],label_array[val_index]\n",
    "    scaler=StandardScaler3D()\n",
    "    train_features=scaler.fit_transform(train_features)\n",
    "    val_features=scaler.transform(val_features)\n",
    "    break"
   ]
  },
  {
   "cell_type": "code",
   "execution_count": 10,
   "id": "aded78ef",
   "metadata": {},
   "outputs": [
    {
     "data": {
      "text/plain": [
       "(7662, 1000, 19)"
      ]
     },
     "execution_count": 10,
     "metadata": {},
     "output_type": "execute_result"
    }
   ],
   "source": [
    "train_features.shape"
   ]
  },
  {
   "cell_type": "code",
   "execution_count": 11,
   "id": "d2016e78",
   "metadata": {},
   "outputs": [],
   "source": [
    "from tensorflow.keras.layers import Input,Dense,concatenate,Flatten,GRU,Conv1D\n",
    "from tensorflow.keras.models import Model"
   ]
  },
  {
   "cell_type": "code",
   "execution_count": 12,
   "id": "65d66808",
   "metadata": {},
   "outputs": [],
   "source": [
    "def block(input):\n",
    "    conv1 = Conv1D(32, 2, strides=2,activation='relu',padding=\"same\")(input)\n",
    "    conv2 = Conv1D(32, 4, strides=2,activation='relu',padding=\"causal\")(input)\n",
    "    conv3 = Conv1D(32, 8, strides=2,activation='relu',padding=\"causal\")(input)\n",
    "    x = concatenate([conv1,conv2,conv3],axis=2)\n",
    "    return x"
   ]
  },
  {
   "cell_type": "code",
   "execution_count": 13,
   "id": "75be65a1",
   "metadata": {},
   "outputs": [],
   "source": [
    "input= Input(shape=(1000,19))\n",
    "block1=block(input)\n",
    "block2=block(block1)\n",
    "block3=block(block2)"
   ]
  },
  {
   "cell_type": "code",
   "execution_count": 14,
   "id": "cc2631af",
   "metadata": {},
   "outputs": [],
   "source": [
    "gru_out1 = GRU(32,activation='tanh',return_sequences=True)(block3)\n",
    "gru_out2 = GRU(32,activation='tanh',return_sequences=True)(gru_out1)\n",
    "gru_out = concatenate([gru_out1,gru_out2],axis=2)\n",
    "gru_out3 = GRU(32,activation='tanh',return_sequences=True)(gru_out)\n",
    "gru_out = concatenate([gru_out1,gru_out2,gru_out3])\n",
    "gru_out4 = GRU(32,activation='tanh')(gru_out)\n"
   ]
  },
  {
   "cell_type": "code",
   "execution_count": 15,
   "id": "52d536e7",
   "metadata": {},
   "outputs": [],
   "source": [
    "predictions = Dense(1,activation='softmax')(gru_out4)\n",
    "model = Model(inputs=input, outputs=predictions)\n",
    "\n",
    "model.compile(optimizer = 'adam', loss = 'binary_crossentropy', metrics=['accuracy'])"
   ]
  },
  {
   "cell_type": "code",
   "execution_count": 27,
   "id": "c492ae75",
   "metadata": {},
   "outputs": [
    {
     "name": "stdout",
     "output_type": "stream",
     "text": [
      "Epoch 1/10\n",
      "60/60 [==============================] - 16s 267ms/step - loss: 0.7364 - accuracy: 0.5934\n",
      "Epoch 2/10\n",
      "60/60 [==============================] - 16s 265ms/step - loss: 0.7352 - accuracy: 0.5934\n",
      "Epoch 3/10\n",
      "60/60 [==============================] - 16s 265ms/step - loss: 0.7367 - accuracy: 0.5934\n",
      "Epoch 4/10\n",
      "60/60 [==============================] - 16s 265ms/step - loss: 0.7325 - accuracy: 0.5934\n",
      "Epoch 5/10\n",
      "60/60 [==============================] - 16s 264ms/step - loss: 0.7320 - accuracy: 0.5934\n",
      "Epoch 6/10\n",
      "60/60 [==============================] - 16s 272ms/step - loss: 0.7323 - accuracy: 0.5934\n",
      "Epoch 7/10\n",
      "60/60 [==============================] - 16s 266ms/step - loss: 0.7321 - accuracy: 0.5934\n",
      "Epoch 8/10\n",
      "60/60 [==============================] - 16s 273ms/step - loss: 0.7372 - accuracy: 0.5934\n",
      "Epoch 9/10\n",
      "60/60 [==============================] - 16s 272ms/step - loss: 0.7348 - accuracy: 0.5934\n",
      "Epoch 10/10\n",
      "60/60 [==============================] - 16s 270ms/step - loss: 0.7321 - accuracy: 0.5934\n"
     ]
    },
    {
     "data": {
      "text/plain": [
       "<keras.src.callbacks.History at 0x339feae30>"
      ]
     },
     "execution_count": 27,
     "metadata": {},
     "output_type": "execute_result"
    }
   ],
   "source": [
    "import tensorflow as tf\n",
    "train_dataset = tf.data.Dataset.from_tensor_slices((train_features, train_labels))\n",
    "train_dataset = train_dataset.batch(128)  \n",
    "val_dataset = tf.data.Dataset.from_tensor_slices((val_features, val_labels))\n",
    "val_dataset = val_dataset.batch(128) \n",
    "model.fit(train_dataset, epochs=10,batch_size=128)"
   ]
  },
  {
   "cell_type": "code",
   "execution_count": 28,
   "id": "a1c5fda5",
   "metadata": {},
   "outputs": [
    {
     "name": "stdout",
     "output_type": "stream",
     "text": [
      "16/16 [==============================] - 1s 77ms/step - loss: 0.8347 - accuracy: 0.3721\n"
     ]
    }
   ],
   "source": [
    "import tensorflow as tf\n",
    "val_dataset = tf.data.Dataset.from_tensor_slices((val_features, val_labels))\n",
    "batch_size = 128\n",
    "val_dataset = val_dataset.batch(batch_size)\n",
    "evaluation = model.evaluate(val_dataset)"
   ]
  },
  {
   "cell_type": "code",
   "execution_count": 26,
   "id": "7db5e864",
   "metadata": {},
   "outputs": [
    {
     "name": "stdout",
     "output_type": "stream",
     "text": [
      "Model: \"model\"\n",
      "__________________________________________________________________________________________________\n",
      " Layer (type)                Output Shape                 Param #   Connected to                  \n",
      "==================================================================================================\n",
      " input_1 (InputLayer)        [(None, 1000, 19)]           0         []                            \n",
      "                                                                                                  \n",
      " conv1d (Conv1D)             (None, 500, 32)              1248      ['input_1[0][0]']             \n",
      "                                                                                                  \n",
      " conv1d_1 (Conv1D)           (None, 500, 32)              2464      ['input_1[0][0]']             \n",
      "                                                                                                  \n",
      " conv1d_2 (Conv1D)           (None, 500, 32)              4896      ['input_1[0][0]']             \n",
      "                                                                                                  \n",
      " concatenate (Concatenate)   (None, 500, 96)              0         ['conv1d[0][0]',              \n",
      "                                                                     'conv1d_1[0][0]',            \n",
      "                                                                     'conv1d_2[0][0]']            \n",
      "                                                                                                  \n",
      " conv1d_3 (Conv1D)           (None, 250, 32)              6176      ['concatenate[0][0]']         \n",
      "                                                                                                  \n",
      " conv1d_4 (Conv1D)           (None, 250, 32)              12320     ['concatenate[0][0]']         \n",
      "                                                                                                  \n",
      " conv1d_5 (Conv1D)           (None, 250, 32)              24608     ['concatenate[0][0]']         \n",
      "                                                                                                  \n",
      " concatenate_1 (Concatenate  (None, 250, 96)              0         ['conv1d_3[0][0]',            \n",
      " )                                                                   'conv1d_4[0][0]',            \n",
      "                                                                     'conv1d_5[0][0]']            \n",
      "                                                                                                  \n",
      " conv1d_6 (Conv1D)           (None, 125, 32)              6176      ['concatenate_1[0][0]']       \n",
      "                                                                                                  \n",
      " conv1d_7 (Conv1D)           (None, 125, 32)              12320     ['concatenate_1[0][0]']       \n",
      "                                                                                                  \n",
      " conv1d_8 (Conv1D)           (None, 125, 32)              24608     ['concatenate_1[0][0]']       \n",
      "                                                                                                  \n",
      " concatenate_2 (Concatenate  (None, 125, 96)              0         ['conv1d_6[0][0]',            \n",
      " )                                                                   'conv1d_7[0][0]',            \n",
      "                                                                     'conv1d_8[0][0]']            \n",
      "                                                                                                  \n",
      " gru (GRU)                   (None, 125, 32)              12480     ['concatenate_2[0][0]']       \n",
      "                                                                                                  \n",
      " gru_1 (GRU)                 (None, 125, 32)              6336      ['gru[0][0]']                 \n",
      "                                                                                                  \n",
      " concatenate_3 (Concatenate  (None, 125, 64)              0         ['gru[0][0]',                 \n",
      " )                                                                   'gru_1[0][0]']               \n",
      "                                                                                                  \n",
      " gru_2 (GRU)                 (None, 125, 32)              9408      ['concatenate_3[0][0]']       \n",
      "                                                                                                  \n",
      " concatenate_4 (Concatenate  (None, 125, 96)              0         ['gru[0][0]',                 \n",
      " )                                                                   'gru_1[0][0]',               \n",
      "                                                                     'gru_2[0][0]']               \n",
      "                                                                                                  \n",
      " gru_3 (GRU)                 (None, 32)                   12480     ['concatenate_4[0][0]']       \n",
      "                                                                                                  \n",
      " dense (Dense)               (None, 1)                    33        ['gru_3[0][0]']               \n",
      "                                                                                                  \n",
      "==================================================================================================\n",
      "Total params: 135553 (529.50 KB)\n",
      "Trainable params: 135553 (529.50 KB)\n",
      "Non-trainable params: 0 (0.00 Byte)\n",
      "__________________________________________________________________________________________________\n"
     ]
    }
   ],
   "source": [
    "model.summary()"
   ]
  },
  {
   "cell_type": "code",
   "execution_count": null,
   "id": "7229ee7d",
   "metadata": {},
   "outputs": [],
   "source": []
  }
 ],
 "metadata": {
  "kernelspec": {
   "display_name": "Python 3 (ipykernel)",
   "language": "python",
   "name": "python3"
  },
  "language_info": {
   "codemirror_mode": {
    "name": "ipython",
    "version": 3
   },
   "file_extension": ".py",
   "mimetype": "text/x-python",
   "name": "python",
   "nbconvert_exporter": "python",
   "pygments_lexer": "ipython3",
   "version": "3.10.9"
  }
 },
 "nbformat": 4,
 "nbformat_minor": 5
}
